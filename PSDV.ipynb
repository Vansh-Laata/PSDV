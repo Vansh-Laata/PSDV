{
 "cells": [
  {
   "cell_type": "code",
   "execution_count": 10,
   "metadata": {},
   "outputs": [
    {
     "name": "stdout",
     "output_type": "stream",
     "text": [
      "even\n"
     ]
    }
   ],
   "source": [
    "# finding odd and even\n",
    "\n",
    "n = 8\n",
    "if n%2 == 0:\n",
    "    print('even')\n",
    "else:\n",
    "    print('odd')"
   ]
  },
  {
   "cell_type": "code",
   "execution_count": 11,
   "metadata": {},
   "outputs": [
    {
     "name": "stdout",
     "output_type": "stream",
     "text": [
      "your grade is : A\n"
     ]
    }
   ],
   "source": [
    "n = 98\n",
    "if 90<n<=100:\n",
    "    print(\"your grade is : A\")\n",
    "elif 80<n<=90:\n",
    "    print(\"your grade is : B\")\n",
    "elif 70<n<=80:\n",
    "    print(\"your grade is : C\")\n",
    "elif 60<n<=70:\n",
    "    print(\"your grade is : D\")\n",
    "elif 33<n<=60:\n",
    "    print(\"your grade is : E\")\n",
    "else:\n",
    "    print(\"your grade is : F\") "
   ]
  },
  {
   "cell_type": "code",
   "execution_count": 12,
   "metadata": {},
   "outputs": [
    {
     "name": "stdout",
     "output_type": "stream",
     "text": [
      "This is not a leap year\n"
     ]
    }
   ],
   "source": [
    "n = 2001\n",
    "if n%400 == 0 and n%100 == 0 :\n",
    "    print(\"This is a leap year\")\n",
    "elif n%4 == 0 and n%100 != 0:\n",
    "    print(\"This is a leap year\")\n",
    "else:\n",
    "    print(\"This is not a leap year\")"
   ]
  },
  {
   "cell_type": "code",
   "execution_count": 13,
   "metadata": {},
   "outputs": [
    {
     "name": "stdout",
     "output_type": "stream",
     "text": [
      "mean : 34.3\n",
      "median : 21.0\n",
      "mode : 5\n",
      "standard deviation : 34.23464781637327\n"
     ]
    }
   ],
   "source": [
    "# Calculation of mean,mode,median and standard deviation.as_integer_ratio\n",
    "\n",
    "import statistics\n",
    "\n",
    "a = [4,5,34,53,5,6,98,57,73,8]\n",
    "\n",
    "b = statistics.mean(a)\n",
    "c = statistics.median(a)\n",
    "d = statistics.mode(a)\n",
    "e = statistics.stdev(a)\n",
    "\n",
    "print('mean :',b)\n",
    "print('median :',c)\n",
    "print('mode :',d)\n",
    "print('standard deviation :',e)"
   ]
  },
  {
   "cell_type": "code",
   "execution_count": 14,
   "metadata": {},
   "outputs": [
    {
     "name": "stdout",
     "output_type": "stream",
     "text": [
      "your normalised list is :\n",
      " [0.03333333333333333, 0.1, 0.16666666666666666, 0.06666666666666667, 0.2, 0.16666666666666666, 0.26666666666666666]\n"
     ]
    }
   ],
   "source": [
    "# Normalization of the list\n",
    "\n",
    "a = [1,3,5,2,6,5,8]\n",
    "\n",
    "norm = [float(i)/sum(a) for i in a]\n",
    "print('your normalised list is :\\n',norm)"
   ]
  },
  {
   "cell_type": "code",
   "execution_count": 15,
   "metadata": {},
   "outputs": [
    {
     "name": "stdout",
     "output_type": "stream",
     "text": [
      "union of the list is :\n",
      " [1, 2, 3, 4, 5, 6, 7, 8, 9, 45, 754, 22]\n",
      "intersection of the given list is :\n",
      " [1, 2, 3, 5, 7]\n",
      "the symmetric diff of the two given list is :\n",
      " [8, 9, 4, 6]\n"
     ]
    }
   ],
   "source": [
    "# Finding the union, intrsection and symmetric difference of the two given list\n",
    "\n",
    "lst1 = [1,3,4,6,5,7,8,2,9]\n",
    "lst2 = [1,3,5,7,2,22,45,754]\n",
    "#print(intersection(lst1, lst2))\n",
    "lst3 = list(set(lst1) | set(lst2))\n",
    "print('union of the list is :\\n',lst3)\n",
    "\n",
    "lst4 = list(set(lst1) & set(lst2))\n",
    "print('intersection of the given list is :\\n',lst4)\n",
    "\n",
    "lst5 = list(set(lst1) - set(lst2))\n",
    "print('the symmetric diff of the two given list is :\\n',lst5)"
   ]
  },
  {
   "cell_type": "code",
   "execution_count": 16,
   "metadata": {},
   "outputs": [
    {
     "name": "stdout",
     "output_type": "stream",
     "text": [
      "3\n",
      "38\n",
      "25\n",
      "28\n",
      "14\n",
      "41\n",
      "34\n",
      "3\n",
      "6\n",
      "33\n",
      "46\n",
      "23\n",
      "2\n",
      "33\n",
      "39\n",
      "3\n",
      "18\n",
      "49\n",
      "3\n",
      "8\n",
      "28\n",
      "25\n",
      "16\n",
      "20\n",
      "42\n",
      "28\n",
      "20\n",
      "38\n",
      "43\n",
      "16\n",
      "40\n",
      "29\n",
      "14\n",
      "11\n",
      "40\n",
      "5\n",
      "26\n",
      "48\n",
      "13\n",
      "21\n",
      "11\n",
      "37\n",
      "36\n",
      "3\n",
      "37\n",
      "1\n",
      "25\n",
      "39\n",
      "47\n",
      "7\n",
      "6\n",
      "31\n",
      "31\n",
      "32\n",
      "22\n",
      "5\n",
      "34\n",
      "34\n",
      "43\n",
      "18\n",
      "1\n",
      "32\n",
      "30\n",
      "8\n",
      "9\n",
      "15\n",
      "12\n",
      "28\n",
      "35\n",
      "44\n",
      "32\n",
      "18\n",
      "28\n",
      "25\n",
      "2\n",
      "39\n",
      "29\n",
      "23\n",
      "28\n",
      "5\n",
      "5\n",
      "33\n",
      "23\n",
      "47\n",
      "19\n",
      "28\n",
      "12\n",
      "42\n",
      "37\n",
      "13\n",
      "14\n",
      "8\n",
      "6\n",
      "37\n",
      "31\n",
      "39\n",
      "14\n",
      "10\n",
      "27\n",
      "34\n"
     ]
    }
   ],
   "source": [
    "# Random No. Genetrator\n",
    "\n",
    "import random\n",
    "\n",
    "for i in range(1, 101):\n",
    "     y = random.randrange(1,50)\n",
    "     print(y)"
   ]
  },
  {
   "cell_type": "code",
   "execution_count": 17,
   "metadata": {},
   "outputs": [],
   "source": [
    "# Merging Dictionaries\n",
    "\n",
    "# dict1 = {'a': 10, 'b': 20}\n",
    "# dict2 = {'b': 5, 'c': 15}\n",
    "\n",
    "# dict3 = dict1|dict2\n",
    "# print(dict3)"
   ]
  },
  {
   "cell_type": "code",
   "execution_count": 18,
   "metadata": {},
   "outputs": [
    {
     "name": "stdout",
     "output_type": "stream",
     "text": [
      "[1, 2, 3, 4, 5, 6, 7, 8, 9, 10]\n",
      "[(1, 1), (2, 4), (3, 9), (4, 16), (5, 25), (6, 36), (7, 49), (8, 64), (9, 81), (10, 100)]\n"
     ]
    }
   ],
   "source": [
    "# Tuple List Creation\n",
    "\n",
    "a = []\n",
    "for i in range(1,11):\n",
    "    a.append(i)\n",
    "print(a)\n",
    "\n",
    "b = []\n",
    "for n in a:\n",
    "    b.append((n,n**2))\n",
    "print(b)"
   ]
  },
  {
   "cell_type": "code",
   "execution_count": 19,
   "metadata": {},
   "outputs": [
    {
     "name": "stdout",
     "output_type": "stream",
     "text": [
      "[3, 5, 7, 6, 9, 11, 13]\n",
      "[3, 5, 6, 9, 11, 13]\n",
      "[13, 11, 9, 6, 5, 3]\n",
      "mean of the list is :\n",
      " 7.833333333333333\n",
      "median is : 7.5\n"
     ]
    }
   ],
   "source": [
    "# List Manipulation\n",
    "\n",
    "a = [3, 5, 7, 9, 11, 13]\n",
    "a.insert(3,6)\n",
    "print(a)\n",
    "\n",
    "a.pop(2)\n",
    "print(a)\n",
    "\n",
    "a.reverse()\n",
    "print(a)\n",
    "\n",
    "mean = sum(a)/len(a)\n",
    "print('mean of the list is :\\n',mean)\n",
    "\n",
    "b = len(a)\n",
    "\n",
    "if b%2 == 0:\n",
    "    m1 = a[b//2]\n",
    "    m2 = a[b//2 - 1]\n",
    "    median = (m1 + m2)/2\n",
    "else:\n",
    "    median = a[b//2]\n",
    "print(\"median is :\",median)\n",
    "\n",
    "\n"
   ]
  },
  {
   "cell_type": "code",
   "execution_count": 20,
   "metadata": {},
   "outputs": [
    {
     "name": "stdout",
     "output_type": "stream",
     "text": [
      "1 2 3 5 8 13 21 34 55 89 144 \n"
     ]
    }
   ],
   "source": [
    "n = 10\n",
    "num1 = 0\n",
    "num2 = 1\n",
    "next_number = num2   \n",
    "count = 0\n",
    "\n",
    "while count <= n:   \n",
    "    print(next_number, end=\" \")  \n",
    "    count += 1  \n",
    "    num1, num2 = num2, next_number   \n",
    "    next_number = num1 + num2  \n",
    "print()\n"
   ]
  },
  {
   "cell_type": "code",
   "execution_count": 21,
   "metadata": {},
   "outputs": [
    {
     "name": "stdout",
     "output_type": "stream",
     "text": [
      "[2, 4, 5, 2, 6, 7, 7, 7, 6, 5, 5, 8, 10]\n",
      "{'x': 7, 'y': 2, 'z': 3}\n"
     ]
    }
   ],
   "source": [
    "a = [2,4,5,2,6,7,7,7,6,5,5,8,]\n",
    "a.append(10)\n",
    "print(a)\n",
    "\n",
    "c = {'x':1,'y':2,'z':3}\n",
    "c['x']=7\n",
    "print(c)\n",
    "\n",
    "# b = (1,3,5,6,7,2,9)\n",
    "# b.append(10)\n",
    "# print(b)\n",
    "\n",
    "# from above we can say that list and dictionary are mutable  and  tuple is immutable\n",
    "\n"
   ]
  },
  {
   "cell_type": "code",
   "execution_count": 22,
   "metadata": {},
   "outputs": [
    {
     "name": "stdout",
     "output_type": "stream",
     "text": [
      "[1, 2, 3, 4, 5, 6, 7, 8, 9, 10, 11, 12, 13, 14, 15, 16, 17, 18, 19, 20]\n",
      "[2, 4, 6, 8, 10, 12, 14, 16, 18, 20]\n",
      "[1, 3, 5, 7, 9, 11, 13, 15, 17, 19]\n",
      "sum of all even no. in the given list is : 110\n",
      "mean of the given list is : 10.5\n",
      "median of the given list is : 10.5\n",
      "mode of the given list is : 1\n"
     ]
    }
   ],
   "source": [
    "a = []\n",
    "for i in range(1,21):\n",
    "    a.append(i)\n",
    "print(a)\n",
    "\n",
    "b = []\n",
    "d = []\n",
    "for n in a:\n",
    "    if n%2 == 0:\n",
    "        b.append(n)\n",
    "    else:\n",
    "        d.append(n)\n",
    "print(b)\n",
    "print(d)\n",
    "\n",
    "c = sum(b)\n",
    "print('sum of all even no. in the given list is :',c)\n",
    "\n",
    "import statistics\n",
    "\n",
    "x = statistics.mean(a)\n",
    "print('mean of the given list is :',x)\n",
    "\n",
    "y = statistics.median(a)\n",
    "print('median of the given list is :',y)\n",
    "\n",
    "z = statistics.mode(a)\n",
    "print('mode of the given list is :',z)"
   ]
  },
  {
   "cell_type": "code",
   "execution_count": 23,
   "metadata": {},
   "outputs": [
    {
     "name": "stdout",
     "output_type": "stream",
     "text": [
      "[{'name': 'Bob', 'age': 22}, {'name': 'Alice', 'age': 25}]\n"
     ]
    }
   ],
   "source": [
    "# sorting of the dictionaries\n",
    "\n",
    "import operator\n",
    "\n",
    "data = [{'name': 'Alice', 'age': 25}, {'name': 'Bob', 'age': 22}]\n",
    "data.sort(key = operator.itemgetter('age'))\n",
    "print(data)"
   ]
  },
  {
   "cell_type": "code",
   "execution_count": 24,
   "metadata": {},
   "outputs": [
    {
     "name": "stdout",
     "output_type": "stream",
     "text": [
      "the string is not a palindrome\n"
     ]
    }
   ],
   "source": [
    "def pali(st):\n",
    "    if(st == st[::-1]):\n",
    "        return\"the string is a palindrome\"\n",
    "    else:\n",
    "        return\"the string is not a palindrome\"\n",
    "    \n",
    "st = \"A man a plan a canal Panama\"\n",
    "\n",
    "print(pali(st))"
   ]
  }
 ],
 "metadata": {
  "kernelspec": {
   "display_name": "Python 3",
   "language": "python",
   "name": "python3"
  },
  "language_info": {
   "codemirror_mode": {
    "name": "ipython",
    "version": 3
   },
   "file_extension": ".py",
   "mimetype": "text/x-python",
   "name": "python",
   "nbconvert_exporter": "python",
   "pygments_lexer": "ipython3",
   "version": "3.12.7"
  }
 },
 "nbformat": 4,
 "nbformat_minor": 2
}
